{
 "cells": [
  {
   "cell_type": "code",
   "execution_count": 128,
   "metadata": {
    "collapsed": false
   },
   "outputs": [],
   "source": [
    "import sympy\n",
    "from sympy.abc import T, zeta, tau, psi, eta, omega\n",
    "from sympy import symbols, Matrix\n",
    "from sympy import MatrixSymbol, Matrix\n",
    "from sympy import FunctionMatrix, symbols, Lambda, MatMul, Matrix\n",
    "sympy.init_printing(use_latex=\"mathjax\", fontsize='32pt')\n",
    "l_s, l_m, T, zeta, tau_r, psi, eta, omega_r, psi_r_beta, u_s_alpha,u_s_beta, \\\n",
    "R_s, sigma, L_s, L_m, psi_r_alpha, i_s_alpha, i_s_beta,P_n, J, M_l\\\n",
    "=symbols('l_s, l_m, T, zeta, tau_r, psi, eta, omega_r, psi_r_beta, u_s_alpha, u_s_beta, R_s, sigma, L_s, L_m, psi_r_alpha, i_s_alpha, i_s_beta,P_n, J, M_l')"
   ]
  },
  {
   "cell_type": "code",
   "execution_count": 129,
   "metadata": {
    "collapsed": false
   },
   "outputs": [
    {
     "data": {
      "text/latex": [
       "$$\\left[\\begin{matrix}i_{s \\alpha}\\\\i_{s \\beta}\\\\\\psi_{r \\alpha}\\\\\\psi_{r \\beta}\\\\\\omega_{r}\\end{matrix}\\right]$$"
      ],
      "text/plain": [
       "⎡i_s_α⎤\n",
       "⎢     ⎥\n",
       "⎢i_s_β⎥\n",
       "⎢     ⎥\n",
       "⎢ψ_r_α⎥\n",
       "⎢     ⎥\n",
       "⎢ψᵣ ᵦ ⎥\n",
       "⎢     ⎥\n",
       "⎣ ωᵣ  ⎦"
      ]
     },
     "execution_count": 129,
     "metadata": {},
     "output_type": "execute_result"
    }
   ],
   "source": [
    "A = Matrix([[i_s_alpha], [i_s_beta], [psi_r_alpha], [psi_r_beta], [omega_r]])\n",
    "A"
   ]
  },
  {
   "cell_type": "code",
   "execution_count": 130,
   "metadata": {
    "collapsed": false
   },
   "outputs": [
    {
     "data": {
      "text/latex": [
       "$$\\left[\\begin{matrix}- \\zeta & 0 & \\frac{\\eta}{\\tau_{r}} & \\eta \\omega_{r} & 0\\\\0 & - \\zeta & - \\eta \\omega_{r} & \\frac{\\eta}{\\tau_{r}} & 0\\\\\\frac{l_{m}}{\\tau_{r}} & 0 & - \\frac{1}{\\tau_{r}} & - \\omega_{r} & 0\\\\0 & \\frac{l_{m}}{\\tau_{r}} & \\omega_{r} & - \\frac{1}{\\tau_{r}} & 0\\\\0 & 0 & 0 & 0 & 0\\end{matrix}\\right]$$"
      ],
      "text/plain": [
       "⎡           η            ⎤\n",
       "⎢-ζ    0    ──    η⋅ωᵣ  0⎥\n",
       "⎢           τᵣ           ⎥\n",
       "⎢                        ⎥\n",
       "⎢                  η     ⎥\n",
       "⎢ 0   -ζ   -η⋅ωᵣ   ──   0⎥\n",
       "⎢                  τᵣ    ⎥\n",
       "⎢                        ⎥\n",
       "⎢l_m        -1           ⎥\n",
       "⎢───   0    ───   -ωᵣ   0⎥\n",
       "⎢ τᵣ         τᵣ          ⎥\n",
       "⎢                        ⎥\n",
       "⎢     l_m         -1     ⎥\n",
       "⎢ 0   ───   ωᵣ    ───   0⎥\n",
       "⎢      τᵣ          τᵣ    ⎥\n",
       "⎢                        ⎥\n",
       "⎣ 0    0     0     0    0⎦"
      ]
     },
     "execution_count": 130,
     "metadata": {},
     "output_type": "execute_result"
    }
   ],
   "source": [
    "B= Matrix([[-zeta, 0, eta/tau_r, eta*omega_r, 0],\n",
    "          [ 0, -zeta, -eta*omega_r, eta/tau_r, 0],\n",
    "          [l_m/tau_r, 0, -1/tau_r, -omega_r, 0],\n",
    "          [0, l_m/tau_r, omega_r, -1/tau_r, 0],\n",
    "          [0, 0, 0, 0, 0]])\n",
    "B"
   ]
  },
  {
   "cell_type": "code",
   "execution_count": 131,
   "metadata": {
    "collapsed": false
   },
   "outputs": [
    {
     "data": {
      "text/latex": [
       "$$\\left[\\begin{matrix}\\frac{1}{l_{s} \\sigma} & 0\\\\0 & \\frac{1}{l_{s} \\sigma}\\\\0 & 0\\\\0 & 0\\\\0 & 0\\end{matrix}\\right]$$"
      ],
      "text/plain": [
       "⎡  1         ⎤\n",
       "⎢─────    0  ⎥\n",
       "⎢l_s⋅σ       ⎥\n",
       "⎢            ⎥\n",
       "⎢         1  ⎥\n",
       "⎢  0    ─────⎥\n",
       "⎢       l_s⋅σ⎥\n",
       "⎢            ⎥\n",
       "⎢  0      0  ⎥\n",
       "⎢            ⎥\n",
       "⎢  0      0  ⎥\n",
       "⎢            ⎥\n",
       "⎣  0      0  ⎦"
      ]
     },
     "execution_count": 131,
     "metadata": {},
     "output_type": "execute_result"
    }
   ],
   "source": [
    "C=Matrix([[1/(sigma*l_s), 0],\n",
    "         [0, 1/(sigma*l_s)],\n",
    "         [0, 0],\n",
    "         [0, 0],\n",
    "         [0, 0]])\n",
    "C"
   ]
  },
  {
   "cell_type": "code",
   "execution_count": 132,
   "metadata": {
    "collapsed": false
   },
   "outputs": [
    {
     "data": {
      "text/latex": [
       "$$\\left[\\begin{matrix}u_{s \\alpha}\\\\u_{s \\beta}\\end{matrix}\\right]$$"
      ],
      "text/plain": [
       "⎡u_s_α⎤\n",
       "⎢     ⎥\n",
       "⎣u_s_β⎦"
      ]
     },
     "execution_count": 132,
     "metadata": {},
     "output_type": "execute_result"
    }
   ],
   "source": [
    "D=Matrix([[u_s_alpha], [u_s_beta]])\n",
    "D"
   ]
  },
  {
   "cell_type": "code",
   "execution_count": 133,
   "metadata": {
    "collapsed": false
   },
   "outputs": [
    {
     "data": {
      "text/latex": [
       "$$\\left[\\begin{matrix}\\eta \\omega_{r} \\psi_{r \\beta} + \\frac{\\eta}{\\tau_{r}} \\psi_{r \\alpha} - i_{s \\alpha} \\zeta + \\frac{u_{s \\alpha}}{l_{s} \\sigma}\\\\- \\eta \\omega_{r} \\psi_{r \\alpha} + \\frac{\\eta}{\\tau_{r}} \\psi_{r \\beta} - i_{s \\beta} \\zeta + \\frac{u_{s \\beta}}{l_{s} \\sigma}\\\\\\frac{i_{s \\alpha}}{\\tau_{r}} l_{m} - \\omega_{r} \\psi_{r \\beta} - \\frac{\\psi_{r \\alpha}}{\\tau_{r}}\\\\\\frac{i_{s \\beta}}{\\tau_{r}} l_{m} + \\omega_{r} \\psi_{r \\alpha} - \\frac{\\psi_{r \\beta}}{\\tau_{r}}\\\\0\\end{matrix}\\right]$$"
      ],
      "text/plain": [
       "⎡            η⋅ψ_r_α             u_s_α ⎤\n",
       "⎢η⋅ωᵣ⋅ψᵣ ᵦ + ─────── - i_s_α⋅ζ + ───── ⎥\n",
       "⎢               τᵣ               l_s⋅σ ⎥\n",
       "⎢                                      ⎥\n",
       "⎢              η⋅ψᵣ ᵦ             u_s_β⎥\n",
       "⎢-η⋅ωᵣ⋅ψ_r_α + ────── - i_s_β⋅ζ + ─────⎥\n",
       "⎢                τᵣ               l_s⋅σ⎥\n",
       "⎢                                      ⎥\n",
       "⎢     i_s_α⋅l_m             ψ_r_α      ⎥\n",
       "⎢     ───────── - ωᵣ⋅ψᵣ ᵦ - ─────      ⎥\n",
       "⎢         τᵣ                  τᵣ       ⎥\n",
       "⎢                                      ⎥\n",
       "⎢     i_s_β⋅l_m              ψᵣ ᵦ      ⎥\n",
       "⎢     ───────── + ωᵣ⋅ψ_r_α - ────      ⎥\n",
       "⎢         τᵣ                  τᵣ       ⎥\n",
       "⎢                                      ⎥\n",
       "⎣                  0                   ⎦"
      ]
     },
     "execution_count": 133,
     "metadata": {},
     "output_type": "execute_result"
    }
   ],
   "source": [
    "FF=B*A+C*D\n",
    "FF"
   ]
  },
  {
   "cell_type": "code",
   "execution_count": 134,
   "metadata": {
    "collapsed": false
   },
   "outputs": [
    {
     "data": {
      "text/latex": [
       "$$\\left[\\begin{matrix}- \\zeta & 0 & \\frac{\\eta}{\\tau_{r}} & \\eta \\omega_{r} & \\eta \\psi_{r \\beta}\\\\0 & - \\zeta & - \\eta \\omega_{r} & \\frac{\\eta}{\\tau_{r}} & - \\eta \\psi_{r \\alpha}\\\\\\frac{l_{m}}{\\tau_{r}} & 0 & - \\frac{1}{\\tau_{r}} & - \\omega_{r} & - \\psi_{r \\beta}\\\\0 & \\frac{l_{m}}{\\tau_{r}} & \\omega_{r} & - \\frac{1}{\\tau_{r}} & \\psi_{r \\alpha}\\\\0 & 0 & 0 & 0 & 0\\end{matrix}\\right]$$"
      ],
      "text/plain": [
       "⎡           η                   ⎤\n",
       "⎢-ζ    0    ──    η⋅ωᵣ   η⋅ψᵣ ᵦ ⎥\n",
       "⎢           τᵣ                  ⎥\n",
       "⎢                               ⎥\n",
       "⎢                  η            ⎥\n",
       "⎢ 0   -ζ   -η⋅ωᵣ   ──   -η⋅ψ_r_α⎥\n",
       "⎢                  τᵣ           ⎥\n",
       "⎢                               ⎥\n",
       "⎢l_m        -1                  ⎥\n",
       "⎢───   0    ───   -ωᵣ    -ψᵣ ᵦ  ⎥\n",
       "⎢ τᵣ         τᵣ                 ⎥\n",
       "⎢                               ⎥\n",
       "⎢     l_m         -1            ⎥\n",
       "⎢ 0   ───   ωᵣ    ───    ψ_r_α  ⎥\n",
       "⎢      τᵣ          τᵣ           ⎥\n",
       "⎢                               ⎥\n",
       "⎣ 0    0     0     0       0    ⎦"
      ]
     },
     "execution_count": 134,
     "metadata": {},
     "output_type": "execute_result"
    }
   ],
   "source": [
    "F = FF.jacobian(Matrix([i_s_alpha, i_s_beta, psi_r_alpha, psi_r_beta, omega_r]))\n",
    "F"
   ]
  },
  {
   "cell_type": "code",
   "execution_count": 135,
   "metadata": {
    "collapsed": false
   },
   "outputs": [
    {
     "data": {
      "text/latex": [
       "$$t^{.}_{r}$$"
      ],
      "text/plain": [
       "t_r__."
      ]
     },
     "execution_count": 135,
     "metadata": {},
     "output_type": "execute_result"
    }
   ],
   "source": [
    "time=symbols('t^._r')\n",
    "time"
   ]
  },
  {
   "cell_type": "code",
   "execution_count": null,
   "metadata": {
    "collapsed": true
   },
   "outputs": [],
   "source": []
  }
 ],
 "metadata": {
  "kernelspec": {
   "display_name": "Python 2",
   "language": "python",
   "name": "python2"
  },
  "language_info": {
   "codemirror_mode": {
    "name": "ipython",
    "version": 2
   },
   "file_extension": ".py",
   "mimetype": "text/x-python",
   "name": "python",
   "nbconvert_exporter": "python",
   "pygments_lexer": "ipython2",
   "version": "2.7.12"
  }
 },
 "nbformat": 4,
 "nbformat_minor": 0
}
